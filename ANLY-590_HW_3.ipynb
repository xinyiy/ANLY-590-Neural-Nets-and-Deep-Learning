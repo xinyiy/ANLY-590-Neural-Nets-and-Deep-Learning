{
 "cells": [
  {
   "cell_type": "markdown",
   "metadata": {},
   "source": [
    "# 1 A Convolutional Autoencoder"
   ]
  },
  {
   "cell_type": "markdown",
   "metadata": {},
   "source": [
    "The components of this network will be Conv2D, MaxPooling, and so on.\n",
    "The encoder part of the network should run the input image through a few\n",
    "convolutional layers of your choice. The decoder part of the network will utilize\n",
    "UpSampling2D to get the representation back to the original image size."
   ]
  },
  {
   "cell_type": "code",
   "execution_count": 16,
   "metadata": {},
   "outputs": [],
   "source": [
    "import tensorflow\n",
    "import pandas as pd\n",
    "import numpy as np\n",
    "import matplotlib.pyplot as plt\n",
    "\n",
    "from tensorflow.keras import backend, optimizers\n",
    "from tensorflow.keras.layers import Input, Dense, Conv2D, MaxPooling2D, UpSampling2D, BatchNormalization, Flatten, Reshape\n",
    "from tensorflow.keras.models import Model\n",
    "from tensorflow.keras.datasets import fashion_mnist\n",
    "from tensorflow.keras import backend as K"
   ]
  },
  {
   "cell_type": "markdown",
   "metadata": {},
   "source": [
    "Model training."
   ]
  },
  {
   "cell_type": "code",
   "execution_count": 9,
   "metadata": {},
   "outputs": [],
   "source": [
    "input_img = Input(shape=(28, 28, 1))  # adapt this if using `channels_first` image data format\n",
    "\n",
    "x = Conv2D(16, (3, 3), activation='relu', padding='same')(input_img)\n",
    "x = MaxPooling2D((2, 2), padding='same')(x)\n",
    "x = Conv2D(8, (3, 3), activation='relu', padding='same')(x)\n",
    "x = MaxPooling2D((2, 2), padding='same')(x)\n",
    "x = Conv2D(8, (3, 3), activation='relu', padding='same')(x)\n",
    "encoded = MaxPooling2D((2, 2), padding='same')(x)\n",
    "\n",
    "# at this point the representation is (4, 4, 8) i.e. 128-dimensional\n",
    "\n",
    "x = Conv2D(8, (3, 3), activation='relu', padding='same')(encoded)\n",
    "x = UpSampling2D((2, 2))(x)\n",
    "x = Conv2D(8, (3, 3), activation='relu', padding='same')(x)\n",
    "x = UpSampling2D((2, 2))(x)\n",
    "x = Conv2D(16, (3, 3), activation='relu')(x)\n",
    "x = UpSampling2D((2, 2))(x)\n",
    "decoded = Conv2D(1, (3, 3), activation='sigmoid', padding='same')(x)\n",
    "\n",
    "autoencoder = Model(input_img, decoded)\n",
    "autoencoder.compile(optimizer='adadelta', loss='binary_crossentropy', metrics=['accuracy'])"
   ]
  },
  {
   "cell_type": "code",
   "execution_count": 14,
   "metadata": {},
   "outputs": [],
   "source": [
    "inputs = Input(shape=(28, 28, 1))\n",
    "\n",
    "x = Conv2D(32, (3, 3), activation='relu', padding='same')(inputs)\n",
    "x = Conv2D(32, (3, 3), activation='relu', padding='same')(x)\n",
    "x = MaxPooling2D((2, 2))(x)\n",
    "x = BatchNormalization()(x)\n",
    "x = Conv2D(32, (3, 3), activation='relu', padding='same')(x)\n",
    "x = Conv2D(32, (3, 3), activation='relu', padding='same')(x)\n",
    "x = Conv2D(32, (2, 2), activation='relu', padding='same')(x)\n",
    "x = MaxPooling2D((2, 2))(x)\n",
    "x = BatchNormalization()(x)\n",
    "x = Conv2D(16, (2, 2), activation='relu', padding='same')(x)\n",
    "x = Conv2D(4, (2, 2), activation='relu', padding='same')(x)\n",
    "x = Conv2D(1, (2, 2), activation='relu', padding='same')(x)\n",
    "x = Flatten()(x)\n",
    "encoded = Dense(2, activation='relu')(x)\n",
    "\n",
    "encoder = Model(inputs=inputs, outputs=encoded)\n",
    "\n",
    "encoded_inputs = Input(shape=(2,))\n",
    "\n",
    "x = Dense(4, activation='relu')(encoded_inputs)\n",
    "x = Reshape((2, 2, 1))(x)\n",
    "x = Conv2D(4, (2, 2), activation='relu', padding='same')(x)\n",
    "x = Conv2D(16, (2, 2), activation='relu', padding='same')(x)\n",
    "x = BatchNormalization()(x)\n",
    "x = UpSampling2D((7, 7))(x)\n",
    "x = Conv2D(32, (3, 3), activation='relu', padding='same')(x)\n",
    "x = Conv2D(32, (3, 3), activation='relu', padding='same')(x)\n",
    "x = Conv2D(32, (3, 3), activation='relu', padding='same')(x)\n",
    "x = BatchNormalization()(x)\n",
    "x = UpSampling2D((2, 2))(x)\n",
    "x = Conv2D(32, (3, 3), activation='relu', padding='same')(x)\n",
    "x = Conv2D(32, (3, 3), activation='relu', padding='same')(x)\n",
    "decoded = Conv2D(1, (3, 3), activation='sigmoid', padding='same')(x)\n",
    "\n",
    "decoder = Model(inputs=encoded_inputs, outputs=decoded)\n",
    "\n",
    "x = encoder(inputs)\n",
    "x = decoder(x)\n",
    "autoencoder = Model(inputs=inputs, outputs=x)\n",
    "autoencoder.compile(optimizer=optimizers.Adam(1e-3), loss='binary_crossentropy', metrics=['accuracy', 'mse'])"
   ]
  },
  {
   "cell_type": "markdown",
   "metadata": {},
   "source": [
    "I'm discarding the labels (since we're only interested in encoding/decoding the input images)."
   ]
  },
  {
   "cell_type": "code",
   "execution_count": 15,
   "metadata": {},
   "outputs": [],
   "source": [
    "(x_train, _), (x_test, _) = fashion_mnist.load_data()\n",
    "\n",
    "x_train = x_train.astype('float32') / 255.\n",
    "x_test = x_test.astype('float32') / 255.\n",
    "x_train = np.reshape(x_train, (len(x_train), 28, 28, 1))  # adapt this if using `channels_first` image data format\n",
    "x_test = np.reshape(x_test, (len(x_test), 28, 28, 1))  # adapt this if using `channels_first` image data format"
   ]
  },
  {
   "cell_type": "code",
   "execution_count": 17,
   "metadata": {},
   "outputs": [
    {
     "name": "stdout",
     "output_type": "stream",
     "text": [
      "Train on 60000 samples, validate on 10000 samples\n",
      "Epoch 1/50\n",
      "60000/60000 [==============================] - 667s 11ms/sample - loss: 0.3986 - accuracy: 0.4929 - mse: 0.0517 - val_loss: 1.1067 - val_accuracy: 0.4999 - val_mse: 0.1873\n",
      "Epoch 2/50\n",
      "60000/60000 [==============================] - 654s 11ms/sample - loss: 0.3656 - accuracy: 0.4962 - mse: 0.0407 - val_loss: 0.5314 - val_accuracy: 0.4987 - val_mse: 0.0866\n",
      "Epoch 3/50\n",
      "60000/60000 [==============================] - 567s 9ms/sample - loss: 0.3587 - accuracy: 0.4969 - mse: 0.0387 - val_loss: 0.3699 - val_accuracy: 0.4918 - val_mse: 0.0422\n",
      "Epoch 4/50\n",
      "60000/60000 [==============================] - 437s 7ms/sample - loss: 0.3545 - accuracy: 0.4973 - mse: 0.0374 - val_loss: 0.3726 - val_accuracy: 0.4829 - val_mse: 0.0439\n",
      "Epoch 5/50\n",
      "60000/60000 [==============================] - 543s 9ms/sample - loss: 0.3513 - accuracy: 0.4978 - mse: 0.0364 - val_loss: 0.3533 - val_accuracy: 0.4952 - val_mse: 0.0364\n",
      "Epoch 6/50\n",
      "60000/60000 [==============================] - 484s 8ms/sample - loss: 0.3490 - accuracy: 0.4982 - mse: 0.0356 - val_loss: 0.3562 - val_accuracy: 0.4920 - val_mse: 0.0376\n",
      "Epoch 7/50\n",
      "60000/60000 [==============================] - 1030s 17ms/sample - loss: 0.3487 - accuracy: 0.4982 - mse: 0.0355 - val_loss: 0.3538 - val_accuracy: 0.4947 - val_mse: 0.0367\n",
      "Epoch 8/50\n",
      "60000/60000 [==============================] - 567s 9ms/sample - loss: 0.3464 - accuracy: 0.4987 - mse: 0.0348 - val_loss: 0.3525 - val_accuracy: 0.4968 - val_mse: 0.0362\n",
      "Epoch 9/50\n",
      "60000/60000 [==============================] - 477s 8ms/sample - loss: 0.3462 - accuracy: 0.4989 - mse: 0.0347 - val_loss: 0.3494 - val_accuracy: 0.4958 - val_mse: 0.0351\n",
      "Epoch 10/50\n",
      "60000/60000 [==============================] - 515s 9ms/sample - loss: 0.3438 - accuracy: 0.4992 - mse: 0.0340 - val_loss: 0.3664 - val_accuracy: 0.4870 - val_mse: 0.0412\n",
      "Epoch 11/50\n",
      "60000/60000 [==============================] - 516s 9ms/sample - loss: 0.3432 - accuracy: 0.4993 - mse: 0.0338 - val_loss: 0.3553 - val_accuracy: 0.4920 - val_mse: 0.0378\n",
      "Epoch 12/50\n",
      "60000/60000 [==============================] - 434s 7ms/sample - loss: 0.3462 - accuracy: 0.4986 - mse: 0.0348 - val_loss: 0.3504 - val_accuracy: 0.4956 - val_mse: 0.0358\n",
      "Epoch 13/50\n",
      "60000/60000 [==============================] - 508s 8ms/sample - loss: 0.3448 - accuracy: 0.4989 - mse: 0.0344 - val_loss: 0.3522 - val_accuracy: 0.4988 - val_mse: 0.0364\n",
      "Epoch 14/50\n",
      "60000/60000 [==============================] - 565s 9ms/sample - loss: 0.3432 - accuracy: 0.4993 - mse: 0.0339 - val_loss: 0.3943 - val_accuracy: 0.5003 - val_mse: 0.0468\n",
      "Epoch 15/50\n",
      "60000/60000 [==============================] - 458s 8ms/sample - loss: 0.3417 - accuracy: 0.4994 - mse: 0.0334 - val_loss: 0.3502 - val_accuracy: 0.4992 - val_mse: 0.0353\n",
      "Epoch 16/50\n",
      "60000/60000 [==============================] - 515s 9ms/sample - loss: 0.3421 - accuracy: 0.4994 - mse: 0.0335 - val_loss: 0.3578 - val_accuracy: 0.4901 - val_mse: 0.0385\n",
      "Epoch 17/50\n",
      "60000/60000 [==============================] - 500s 8ms/sample - loss: 0.3420 - accuracy: 0.4993 - mse: 0.0336 - val_loss: 0.3446 - val_accuracy: 0.4973 - val_mse: 0.0337\n",
      "Epoch 18/50\n",
      "60000/60000 [==============================] - 460s 8ms/sample - loss: 0.3412 - accuracy: 0.4994 - mse: 0.0333 - val_loss: 0.3447 - val_accuracy: 0.4953 - val_mse: 0.0340\n",
      "Epoch 19/50\n",
      "60000/60000 [==============================] - 463s 8ms/sample - loss: 0.3404 - accuracy: 0.4995 - mse: 0.0329 - val_loss: 0.3543 - val_accuracy: 0.4945 - val_mse: 0.0369\n",
      "Epoch 20/50\n",
      "60000/60000 [==============================] - 428s 7ms/sample - loss: 0.3407 - accuracy: 0.4996 - mse: 0.0330 - val_loss: 0.3993 - val_accuracy: 0.4989 - val_mse: 0.0561\n",
      "Epoch 21/50\n",
      "60000/60000 [==============================] - 451s 8ms/sample - loss: 0.3400 - accuracy: 0.4996 - mse: 0.0328 - val_loss: 0.3456 - val_accuracy: 0.4950 - val_mse: 0.0346\n",
      "Epoch 22/50\n",
      "60000/60000 [==============================] - 447s 7ms/sample - loss: 0.3388 - accuracy: 0.4999 - mse: 0.0325 - val_loss: 0.3628 - val_accuracy: 0.4978 - val_mse: 0.0397\n",
      "Epoch 23/50\n",
      "60000/60000 [==============================] - 434s 7ms/sample - loss: 0.3413 - accuracy: 0.4994 - mse: 0.0333 - val_loss: 0.3457 - val_accuracy: 0.4965 - val_mse: 0.0341\n",
      "Epoch 24/50\n",
      "60000/60000 [==============================] - 431s 7ms/sample - loss: 0.3395 - accuracy: 0.4996 - mse: 0.0328 - val_loss: 0.3425 - val_accuracy: 0.4976 - val_mse: 0.0331\n",
      "Epoch 25/50\n",
      "60000/60000 [==============================] - 407s 7ms/sample - loss: 0.3382 - accuracy: 0.5000 - mse: 0.0322 - val_loss: 0.3468 - val_accuracy: 0.4930 - val_mse: 0.0348\n",
      "Epoch 26/50\n",
      "60000/60000 [==============================] - 414s 7ms/sample - loss: 0.3377 - accuracy: 0.5001 - mse: 0.0321 - val_loss: 0.3427 - val_accuracy: 0.4971 - val_mse: 0.0333\n",
      "Epoch 27/50\n",
      "60000/60000 [==============================] - 2649s 44ms/sample - loss: 0.3377 - accuracy: 0.5000 - mse: 0.0322 - val_loss: 0.3477 - val_accuracy: 0.4937 - val_mse: 0.0355\n",
      "Epoch 28/50\n",
      "60000/60000 [==============================] - 483s 8ms/sample - loss: 0.3386 - accuracy: 0.5000 - mse: 0.0326 - val_loss: 0.3456 - val_accuracy: 0.4948 - val_mse: 0.0344\n",
      "Epoch 29/50\n",
      "60000/60000 [==============================] - 507s 8ms/sample - loss: 0.3372 - accuracy: 0.5002 - mse: 0.0321 - val_loss: 0.3464 - val_accuracy: 0.5002 - val_mse: 0.0346\n",
      "Epoch 30/50\n",
      "60000/60000 [==============================] - 503s 8ms/sample - loss: 0.3370 - accuracy: 0.5001 - mse: 0.0321 - val_loss: 0.3492 - val_accuracy: 0.4927 - val_mse: 0.0359\n",
      "Epoch 31/50\n",
      "60000/60000 [==============================] - 504s 8ms/sample - loss: 0.3381 - accuracy: 0.5001 - mse: 0.0321 - val_loss: 0.3418 - val_accuracy: 0.4973 - val_mse: 0.0329\n",
      "Epoch 32/50\n",
      "60000/60000 [==============================] - 509s 8ms/sample - loss: 0.3366 - accuracy: 0.5003 - mse: 0.0318 - val_loss: 0.3414 - val_accuracy: 0.4977 - val_mse: 0.0328\n",
      "Epoch 33/50\n",
      "60000/60000 [==============================] - 497s 8ms/sample - loss: 0.3370 - accuracy: 0.5002 - mse: 0.0320 - val_loss: 0.4181 - val_accuracy: 0.4890 - val_mse: 0.0531\n",
      "Epoch 34/50\n",
      "60000/60000 [==============================] - 506s 8ms/sample - loss: 0.3365 - accuracy: 0.5003 - mse: 0.0317 - val_loss: 0.3550 - val_accuracy: 0.4964 - val_mse: 0.0365\n",
      "Epoch 35/50\n",
      "60000/60000 [==============================] - 492s 8ms/sample - loss: 0.3354 - accuracy: 0.5005 - mse: 0.0313 - val_loss: 0.3481 - val_accuracy: 0.4927 - val_mse: 0.0354\n",
      "Epoch 36/50\n",
      "60000/60000 [==============================] - 518s 9ms/sample - loss: 0.3363 - accuracy: 0.5003 - mse: 0.0316 - val_loss: 0.3534 - val_accuracy: 0.4925 - val_mse: 0.0369\n",
      "Epoch 37/50\n",
      "60000/60000 [==============================] - 485s 8ms/sample - loss: 0.3355 - accuracy: 0.5004 - mse: 0.0315 - val_loss: 0.3572 - val_accuracy: 0.5004 - val_mse: 0.0384\n",
      "Epoch 38/50\n",
      "60000/60000 [==============================] - 556s 9ms/sample - loss: 0.3368 - accuracy: 0.5002 - mse: 0.0320 - val_loss: 0.3500 - val_accuracy: 0.5010 - val_mse: 0.0353\n",
      "Epoch 39/50\n",
      "60000/60000 [==============================] - 466s 8ms/sample - loss: 0.3357 - accuracy: 0.5005 - mse: 0.0315 - val_loss: 0.3429 - val_accuracy: 0.4947 - val_mse: 0.0338\n",
      "Epoch 40/50\n",
      "60000/60000 [==============================] - 565s 9ms/sample - loss: 0.3351 - accuracy: 0.5005 - mse: 0.0313 - val_loss: 0.3516 - val_accuracy: 0.4907 - val_mse: 0.0372\n",
      "Epoch 41/50\n",
      "60000/60000 [==============================] - 534s 9ms/sample - loss: 0.3341 - accuracy: 0.5007 - mse: 0.0310 - val_loss: 0.3409 - val_accuracy: 0.4985 - val_mse: 0.0327\n",
      "Epoch 42/50\n",
      "60000/60000 [==============================] - 463s 8ms/sample - loss: 0.3356 - accuracy: 0.5004 - mse: 0.0317 - val_loss: 0.3441 - val_accuracy: 0.4998 - val_mse: 0.0336\n",
      "Epoch 43/50\n",
      "60000/60000 [==============================] - 435s 7ms/sample - loss: 0.3353 - accuracy: 0.5005 - mse: 0.0314 - val_loss: 0.3402 - val_accuracy: 0.5002 - val_mse: 0.0325\n",
      "Epoch 44/50\n",
      "60000/60000 [==============================] - 447s 7ms/sample - loss: 0.3349 - accuracy: 0.5005 - mse: 0.0313 - val_loss: 0.3397 - val_accuracy: 0.4965 - val_mse: 0.0326\n",
      "Epoch 45/50\n"
     ]
    },
    {
     "name": "stdout",
     "output_type": "stream",
     "text": [
      "60000/60000 [==============================] - 438s 7ms/sample - loss: 0.3342 - accuracy: 0.5006 - mse: 0.0311 - val_loss: 0.3372 - val_accuracy: 0.4997 - val_mse: 0.0315\n",
      "Epoch 46/50\n",
      "60000/60000 [==============================] - 425s 7ms/sample - loss: 0.3340 - accuracy: 0.5007 - mse: 0.0310 - val_loss: 0.3387 - val_accuracy: 0.4965 - val_mse: 0.0322\n",
      "Epoch 47/50\n",
      "60000/60000 [==============================] - 425s 7ms/sample - loss: 0.3347 - accuracy: 0.5005 - mse: 0.0312 - val_loss: 0.3384 - val_accuracy: 0.4989 - val_mse: 0.0318\n",
      "Epoch 48/50\n",
      "60000/60000 [==============================] - 423s 7ms/sample - loss: 0.3344 - accuracy: 0.5006 - mse: 0.0312 - val_loss: 0.3383 - val_accuracy: 0.4991 - val_mse: 0.0319\n",
      "Epoch 49/50\n",
      "60000/60000 [==============================] - 425s 7ms/sample - loss: 0.3354 - accuracy: 0.5007 - mse: 0.0312 - val_loss: 0.3417 - val_accuracy: 0.4972 - val_mse: 0.0328\n",
      "Epoch 50/50\n",
      "60000/60000 [==============================] - 425s 7ms/sample - loss: 0.3336 - accuracy: 0.5008 - mse: 0.0307 - val_loss: 0.3367 - val_accuracy: 0.4967 - val_mse: 0.0312\n"
     ]
    },
    {
     "data": {
      "text/plain": [
       "<tensorflow.python.keras.callbacks.History at 0xb36ffb908>"
      ]
     },
     "execution_count": 17,
     "metadata": {},
     "output_type": "execute_result"
    }
   ],
   "source": [
    "autoencoder.fit(x_train, x_train,\n",
    "                epochs=50,\n",
    "                batch_size=256,\n",
    "                shuffle=True,\n",
    "                validation_data=(x_test, x_test))"
   ]
  },
  {
   "cell_type": "code",
   "execution_count": 18,
   "metadata": {},
   "outputs": [
    {
     "data": {
      "image/png": "[encoded data removed]",
      "text/plain": [
       "<Figure size 1440x288 with 18 Axes>"
      ]
     },
     "metadata": {
      "needs_background": "light"
     },
     "output_type": "display_data"
    }
   ],
   "source": [
    "decoded_imgs = autoencoder.predict(x_test)\n",
    "\n",
    "n = 10\n",
    "plt.figure(figsize=(20, 4))\n",
    "for i in range(1,n):\n",
    "    # display original\n",
    "    ax = plt.subplot(2, n, i)\n",
    "    plt.imshow(x_test[i].reshape(28, 28))\n",
    "    plt.gray()\n",
    "    ax.get_xaxis().set_visible(False)\n",
    "    ax.get_yaxis().set_visible(False)\n",
    "\n",
    "    # display reconstruction\n",
    "    ax = plt.subplot(2, n, i + n)\n",
    "    plt.imshow(decoded_imgs[i].reshape(28, 28))\n",
    "    plt.gray()\n",
    "    ax.get_xaxis().set_visible(False)\n",
    "    ax.get_yaxis().set_visible(False)\n",
    "plt.show()"
   ]
  },
  {
   "cell_type": "markdown",
   "metadata": {},
   "source": [
    "# 2 Image Classification"
   ]
  },
  {
   "cell_type": "markdown",
   "metadata": {},
   "source": [
    "## 2.1 Deep CNN"
   ]
  },
  {
   "cell_type": "code",
   "execution_count": 17,
   "metadata": {},
   "outputs": [],
   "source": [
    "from tensorflow.keras.utils import to_categorical\n",
    "from tensorflow.keras.models import Sequential\n",
    "from tensorflow.keras.layers import Dropout, Flatten\n",
    "from tensorflow.keras.optimizers import SGD"
   ]
  },
  {
   "cell_type": "code",
   "execution_count": 20,
   "metadata": {},
   "outputs": [],
   "source": [
    "(x_train, y_train), (x_test, y_test) = fashion_mnist.load_data()"
   ]
  },
  {
   "cell_type": "code",
   "execution_count": 21,
   "metadata": {},
   "outputs": [],
   "source": [
    "x_train = x_train.reshape((x_train.shape[0], 28, 28, 1))\n",
    "x_test = x_test.reshape((x_test.shape[0], 28, 28, 1))"
   ]
  },
  {
   "cell_type": "code",
   "execution_count": 22,
   "metadata": {},
   "outputs": [],
   "source": [
    "y_train = to_categorical(y_train)\n",
    "y_test = to_categorical(y_test)"
   ]
  },
  {
   "cell_type": "code",
   "execution_count": 23,
   "metadata": {},
   "outputs": [],
   "source": [
    "x_train = x_train.astype('float32') / 255.\n",
    "x_train = np.reshape(x_train, (len(x_train), 28, 28, 1))\n",
    "\n",
    "x_test = x_test.astype('float32') / 255. \n",
    "x_test = np.reshape(x_test, (len(x_test), 28, 28, 1))"
   ]
  },
  {
   "cell_type": "markdown",
   "metadata": {},
   "source": [
    "+ Kernel sizes: 3 $\\times$ 3 and 2 $\\times$ 2\n",
    "+ Strides: 2 $\\times$ 2\n",
    "+ Padding: case-insensitively same\n",
    "+ Network depth: 8"
   ]
  },
  {
   "cell_type": "code",
   "execution_count": 24,
   "metadata": {},
   "outputs": [],
   "source": [
    "input_img = Input(shape=(28, 28, 1))\n",
    "\n",
    "x = Conv2D(16, (3, 3), activation='relu', padding='same')(input_img)\n",
    "x = MaxPooling2D((2, 2), padding='same')(x)\n",
    "x = Conv2D(8, (3, 3), activation='relu', padding='same')(x)\n",
    "x = MaxPooling2D((2, 2), padding='same')(x)\n",
    "x = Conv2D(8, (3, 3), activation='relu', padding='same')(x)\n",
    "encoded = MaxPooling2D((2, 2), padding='same')(x)\n",
    "\n",
    "x = Flatten()(encoded)\n",
    "x = Dense(100, activation='relu')(x)\n",
    "decoded = Dense(10, activation='softmax')(x)\n",
    "\n",
    "opt = SGD(lr=0.01, momentum=0.9)\n",
    "\n",
    "deep_cnn = Model(input_img, decoded)\n",
    "deep_cnn.compile(optimizer=opt, loss='categorical_crossentropy', metrics=['accuracy'])"
   ]
  },
  {
   "cell_type": "code",
   "execution_count": 25,
   "metadata": {},
   "outputs": [
    {
     "name": "stdout",
     "output_type": "stream",
     "text": [
      "Train on 60000 samples, validate on 10000 samples\n",
      "Epoch 1/50\n",
      "60000/60000 [==============================] - 28s 474us/sample - loss: 1.2082 - accuracy: 0.5561 - val_loss: 0.7487 - val_accuracy: 0.7265\n",
      "Epoch 2/50\n",
      "60000/60000 [==============================] - 31s 524us/sample - loss: 0.6322 - accuracy: 0.7715 - val_loss: 0.6019 - val_accuracy: 0.7805\n",
      "Epoch 3/50\n",
      "60000/60000 [==============================] - 29s 484us/sample - loss: 0.5423 - accuracy: 0.8022 - val_loss: 0.5262 - val_accuracy: 0.8110\n",
      "Epoch 4/50\n",
      "60000/60000 [==============================] - 28s 469us/sample - loss: 0.4979 - accuracy: 0.8180 - val_loss: 0.4978 - val_accuracy: 0.8221\n",
      "Epoch 5/50\n",
      "60000/60000 [==============================] - 27s 449us/sample - loss: 0.4661 - accuracy: 0.8308 - val_loss: 0.4771 - val_accuracy: 0.8240\n",
      "Epoch 6/50\n",
      "60000/60000 [==============================] - 26s 437us/sample - loss: 0.4460 - accuracy: 0.8378 - val_loss: 0.4594 - val_accuracy: 0.8370\n",
      "Epoch 7/50\n",
      "60000/60000 [==============================] - 27s 455us/sample - loss: 0.4327 - accuracy: 0.8431 - val_loss: 0.4494 - val_accuracy: 0.8361\n",
      "Epoch 8/50\n",
      "60000/60000 [==============================] - 27s 448us/sample - loss: 0.4046 - accuracy: 0.8541 - val_loss: 0.4153 - val_accuracy: 0.8530\n",
      "Epoch 9/50\n",
      "60000/60000 [==============================] - 28s 463us/sample - loss: 0.3966 - accuracy: 0.8572 - val_loss: 0.4212 - val_accuracy: 0.8489\n",
      "Epoch 10/50\n",
      "60000/60000 [==============================] - 28s 465us/sample - loss: 0.3835 - accuracy: 0.8614 - val_loss: 0.4043 - val_accuracy: 0.8545\n",
      "Epoch 11/50\n",
      "60000/60000 [==============================] - 26s 433us/sample - loss: 0.3716 - accuracy: 0.8653 - val_loss: 0.3941 - val_accuracy: 0.8572\n",
      "Epoch 12/50\n",
      "60000/60000 [==============================] - 26s 441us/sample - loss: 0.3630 - accuracy: 0.8698 - val_loss: 0.4043 - val_accuracy: 0.8566\n",
      "Epoch 13/50\n",
      "60000/60000 [==============================] - 27s 449us/sample - loss: 0.3596 - accuracy: 0.8710 - val_loss: 0.4006 - val_accuracy: 0.8559\n",
      "Epoch 14/50\n",
      "60000/60000 [==============================] - 27s 455us/sample - loss: 0.3511 - accuracy: 0.8741 - val_loss: 0.3729 - val_accuracy: 0.8673\n",
      "Epoch 15/50\n",
      "60000/60000 [==============================] - 27s 452us/sample - loss: 0.3454 - accuracy: 0.8750 - val_loss: 0.3863 - val_accuracy: 0.8618\n",
      "Epoch 16/50\n",
      "60000/60000 [==============================] - 29s 478us/sample - loss: 0.3394 - accuracy: 0.8791 - val_loss: 0.3650 - val_accuracy: 0.8683\n",
      "Epoch 17/50\n",
      "60000/60000 [==============================] - 28s 463us/sample - loss: 0.3362 - accuracy: 0.8801 - val_loss: 0.3695 - val_accuracy: 0.8654\n",
      "Epoch 18/50\n",
      "60000/60000 [==============================] - 29s 484us/sample - loss: 0.3312 - accuracy: 0.8815 - val_loss: 0.3554 - val_accuracy: 0.8735\n",
      "Epoch 19/50\n",
      "60000/60000 [==============================] - 31s 511us/sample - loss: 0.3247 - accuracy: 0.8840 - val_loss: 0.3534 - val_accuracy: 0.8744\n",
      "Epoch 20/50\n",
      "60000/60000 [==============================] - 26s 429us/sample - loss: 0.3208 - accuracy: 0.8858 - val_loss: 0.3731 - val_accuracy: 0.8657\n",
      "Epoch 21/50\n",
      "60000/60000 [==============================] - 32s 528us/sample - loss: 0.3212 - accuracy: 0.8840 - val_loss: 0.3506 - val_accuracy: 0.8771\n",
      "Epoch 22/50\n",
      "60000/60000 [==============================] - 31s 519us/sample - loss: 0.3164 - accuracy: 0.8875 - val_loss: 0.3592 - val_accuracy: 0.8717\n",
      "Epoch 23/50\n",
      "60000/60000 [==============================] - 30s 507us/sample - loss: 0.3098 - accuracy: 0.8873 - val_loss: 0.3468 - val_accuracy: 0.8755\n",
      "Epoch 24/50\n",
      "60000/60000 [==============================] - 26s 435us/sample - loss: 0.3063 - accuracy: 0.8886 - val_loss: 0.3492 - val_accuracy: 0.8743\n",
      "Epoch 25/50\n",
      "60000/60000 [==============================] - 26s 433us/sample - loss: 0.3017 - accuracy: 0.8923 - val_loss: 0.3335 - val_accuracy: 0.8804\n",
      "Epoch 26/50\n",
      "60000/60000 [==============================] - 26s 427us/sample - loss: 0.2997 - accuracy: 0.8923 - val_loss: 0.3595 - val_accuracy: 0.8703\n",
      "Epoch 27/50\n",
      "60000/60000 [==============================] - 34s 568us/sample - loss: 0.2975 - accuracy: 0.8926 - val_loss: 0.3436 - val_accuracy: 0.8779\n",
      "Epoch 28/50\n",
      "60000/60000 [==============================] - 27s 455us/sample - loss: 0.2932 - accuracy: 0.8937 - val_loss: 0.3272 - val_accuracy: 0.8834\n",
      "Epoch 29/50\n",
      "60000/60000 [==============================] - 29s 487us/sample - loss: 0.2918 - accuracy: 0.8947 - val_loss: 0.3368 - val_accuracy: 0.8794\n",
      "Epoch 30/50\n",
      "60000/60000 [==============================] - 29s 480us/sample - loss: 0.2880 - accuracy: 0.8963 - val_loss: 0.3324 - val_accuracy: 0.8818\n",
      "Epoch 31/50\n",
      "60000/60000 [==============================] - 26s 436us/sample - loss: 0.2846 - accuracy: 0.8983 - val_loss: 0.3385 - val_accuracy: 0.8794\n",
      "Epoch 32/50\n",
      "60000/60000 [==============================] - 30s 494us/sample - loss: 0.2837 - accuracy: 0.8974 - val_loss: 0.3334 - val_accuracy: 0.8825\n",
      "Epoch 33/50\n",
      "60000/60000 [==============================] - 27s 454us/sample - loss: 0.2850 - accuracy: 0.8966 - val_loss: 0.3296 - val_accuracy: 0.8837\n",
      "Epoch 34/50\n",
      "60000/60000 [==============================] - 26s 429us/sample - loss: 0.2784 - accuracy: 0.8994 - val_loss: 0.3549 - val_accuracy: 0.8748\n",
      "Epoch 35/50\n",
      "60000/60000 [==============================] - 26s 441us/sample - loss: 0.2752 - accuracy: 0.9008 - val_loss: 0.3244 - val_accuracy: 0.8861\n",
      "Epoch 36/50\n",
      "60000/60000 [==============================] - 31s 509us/sample - loss: 0.2698 - accuracy: 0.9033 - val_loss: 0.3240 - val_accuracy: 0.8839\n",
      "Epoch 37/50\n",
      "60000/60000 [==============================] - 29s 483us/sample - loss: 0.2719 - accuracy: 0.9019 - val_loss: 0.3157 - val_accuracy: 0.8877\n",
      "Epoch 38/50\n",
      "60000/60000 [==============================] - 29s 487us/sample - loss: 0.2722 - accuracy: 0.9013 - val_loss: 0.3171 - val_accuracy: 0.8876\n",
      "Epoch 39/50\n",
      "60000/60000 [==============================] - 30s 506us/sample - loss: 0.2654 - accuracy: 0.9051 - val_loss: 0.3398 - val_accuracy: 0.8800\n",
      "Epoch 40/50\n",
      "60000/60000 [==============================] - 28s 462us/sample - loss: 0.2655 - accuracy: 0.9028 - val_loss: 0.3251 - val_accuracy: 0.8867\n",
      "Epoch 41/50\n",
      "60000/60000 [==============================] - 29s 491us/sample - loss: 0.2636 - accuracy: 0.9040 - val_loss: 0.3139 - val_accuracy: 0.8916\n",
      "Epoch 42/50\n",
      "60000/60000 [==============================] - 28s 461us/sample - loss: 0.2618 - accuracy: 0.9049 - val_loss: 0.3092 - val_accuracy: 0.8932\n",
      "Epoch 43/50\n",
      "60000/60000 [==============================] - 29s 486us/sample - loss: 0.2612 - accuracy: 0.9050 - val_loss: 0.3107 - val_accuracy: 0.8905\n",
      "Epoch 44/50\n",
      "60000/60000 [==============================] - 32s 539us/sample - loss: 0.2589 - accuracy: 0.9067 - val_loss: 0.3113 - val_accuracy: 0.8898\n",
      "Epoch 45/50\n",
      "60000/60000 [==============================] - 32s 530us/sample - loss: 0.2557 - accuracy: 0.9065 - val_loss: 0.3067 - val_accuracy: 0.8930\n",
      "Epoch 46/50\n",
      "60000/60000 [==============================] - 31s 518us/sample - loss: 0.2568 - accuracy: 0.9077 - val_loss: 0.3120 - val_accuracy: 0.8903\n",
      "Epoch 47/50\n",
      "60000/60000 [==============================] - 31s 520us/sample - loss: 0.2520 - accuracy: 0.9086 - val_loss: 0.3141 - val_accuracy: 0.8899\n",
      "Epoch 48/50\n",
      "60000/60000 [==============================] - 31s 521us/sample - loss: 0.2504 - accuracy: 0.9089 - val_loss: 0.3402 - val_accuracy: 0.8808\n",
      "Epoch 49/50\n",
      "60000/60000 [==============================] - 29s 486us/sample - loss: 0.2526 - accuracy: 0.9089 - val_loss: 0.3086 - val_accuracy: 0.8941\n",
      "Epoch 50/50\n",
      "60000/60000 [==============================] - 29s 477us/sample - loss: 0.2544 - accuracy: 0.9068 - val_loss: 0.3194 - val_accuracy: 0.8903\n"
     ]
    },
    {
     "data": {
      "text/plain": [
       "<tensorflow.python.keras.callbacks.History at 0xb386d4b38>"
      ]
     },
     "execution_count": 25,
     "metadata": {},
     "output_type": "execute_result"
    }
   ],
   "source": [
    "deep_cnn.fit(x_train, y_train,\n",
    "                epochs=50,\n",
    "                batch_size=500,\n",
    "                shuffle=True,\n",
    "                validation_data=(x_test, y_test))"
   ]
  },
  {
   "cell_type": "code",
   "execution_count": 27,
   "metadata": {},
   "outputs": [
    {
     "name": "stdout",
     "output_type": "stream",
     "text": [
      "> 89.030\n"
     ]
    }
   ],
   "source": [
    "_, acc = deep_cnn.evaluate(x_test, y_test, verbose=0)\n",
    "print('> %.3f' % (acc * 100.0))"
   ]
  },
  {
   "cell_type": "markdown",
   "metadata": {},
   "source": [
    "## 2.2 Transfer Learning"
   ]
  },
  {
   "cell_type": "markdown",
   "metadata": {},
   "source": [
    "## VGG"
   ]
  },
  {
   "cell_type": "code",
   "execution_count": 18,
   "metadata": {},
   "outputs": [],
   "source": [
    "from tensorflow.keras.layers import Activation, BatchNormalization, LeakyReLU"
   ]
  },
  {
   "cell_type": "code",
   "execution_count": 30,
   "metadata": {},
   "outputs": [],
   "source": [
    "model_vgg=Sequential()\n",
    "model_vgg.add(Conv2D(filters=32, kernel_size=(3, 3), padding=\"same\", \n",
    "          input_shape=x_train.shape[1:], activation='relu'))\n",
    "model_vgg.add(Conv2D(filters=64, kernel_size=(3, 3), padding=\"same\", activation='relu'))\n",
    "model_vgg.add(MaxPooling2D(pool_size=(2, 2)))\n",
    "model_vgg.add(Dropout(0.5))\n",
    "model_vgg.add(Conv2D(filters=128, kernel_size=(3, 3), padding=\"same\", activation='relu'))\n",
    "model_vgg.add(Conv2D(filters=256, kernel_size=(3, 3), padding=\"valid\", activation='relu'))\n",
    "model_vgg.add(MaxPooling2D(pool_size=(3, 3)))\n",
    "model_vgg.add(Dropout(0.5))\n",
    "model_vgg.add(Flatten())\n",
    "model_vgg.add(Dense(256))\n",
    "model_vgg.add(LeakyReLU())\n",
    "model_vgg.add(Dropout(0.5))\n",
    "model_vgg.add(Dense(256))\n",
    "model_vgg.add(LeakyReLU())\n",
    "model_vgg.add(Dense(10, activation='softmax'))\n",
    "model_vgg.compile(loss='categorical_crossentropy', optimizer='adam', metrics=['accuracy'])\n",
    "#model_vgg.summary()"
   ]
  },
  {
   "cell_type": "code",
   "execution_count": 31,
   "metadata": {},
   "outputs": [
    {
     "name": "stdout",
     "output_type": "stream",
     "text": [
      "Train on 60000 samples, validate on 10000 samples\n",
      "Epoch 1/50\n",
      "60000/60000 [==============================] - 682s 11ms/sample - loss: 0.6421 - accuracy: 0.7634 - val_loss: 0.3617 - val_accuracy: 0.8647\n",
      "Epoch 2/50\n",
      "60000/60000 [==============================] - 594s 10ms/sample - loss: 0.3703 - accuracy: 0.8636 - val_loss: 0.2917 - val_accuracy: 0.8932\n",
      "Epoch 3/50\n",
      "60000/60000 [==============================] - 654s 11ms/sample - loss: 0.3138 - accuracy: 0.8850 - val_loss: 0.2660 - val_accuracy: 0.9006\n",
      "Epoch 4/50\n",
      "60000/60000 [==============================] - 718s 12ms/sample - loss: 0.2824 - accuracy: 0.8964 - val_loss: 0.2488 - val_accuracy: 0.9088\n",
      "Epoch 5/50\n",
      "60000/60000 [==============================] - 629s 10ms/sample - loss: 0.2602 - accuracy: 0.9040 - val_loss: 0.2346 - val_accuracy: 0.9159\n",
      "Epoch 6/50\n",
      "60000/60000 [==============================] - 673s 11ms/sample - loss: 0.2434 - accuracy: 0.9112 - val_loss: 0.2424 - val_accuracy: 0.9107\n",
      "Epoch 7/50\n",
      "60000/60000 [==============================] - 547s 9ms/sample - loss: 0.2328 - accuracy: 0.9141 - val_loss: 0.2152 - val_accuracy: 0.9210\n",
      "Epoch 8/50\n",
      "60000/60000 [==============================] - 549s 9ms/sample - loss: 0.2198 - accuracy: 0.9202 - val_loss: 0.2060 - val_accuracy: 0.9249\n",
      "Epoch 9/50\n",
      "60000/60000 [==============================] - 549s 9ms/sample - loss: 0.2120 - accuracy: 0.9204 - val_loss: 0.2050 - val_accuracy: 0.9260\n",
      "Epoch 10/50\n",
      "60000/60000 [==============================] - 542s 9ms/sample - loss: 0.2047 - accuracy: 0.9246 - val_loss: 0.2113 - val_accuracy: 0.9210\n",
      "Epoch 11/50\n",
      "60000/60000 [==============================] - 537s 9ms/sample - loss: 0.1997 - accuracy: 0.9262 - val_loss: 0.1949 - val_accuracy: 0.9271\n",
      "Epoch 12/50\n",
      "60000/60000 [==============================] - 537s 9ms/sample - loss: 0.1930 - accuracy: 0.9290 - val_loss: 0.1945 - val_accuracy: 0.9289\n",
      "Epoch 13/50\n",
      "60000/60000 [==============================] - 542s 9ms/sample - loss: 0.1879 - accuracy: 0.9301 - val_loss: 0.1976 - val_accuracy: 0.9321\n",
      "Epoch 14/50\n",
      "60000/60000 [==============================] - 539s 9ms/sample - loss: 0.1807 - accuracy: 0.9338 - val_loss: 0.1895 - val_accuracy: 0.9325\n",
      "Epoch 15/50\n",
      "60000/60000 [==============================] - 538s 9ms/sample - loss: 0.1750 - accuracy: 0.9352 - val_loss: 0.1894 - val_accuracy: 0.9313\n",
      "Epoch 16/50\n",
      "60000/60000 [==============================] - 542s 9ms/sample - loss: 0.1736 - accuracy: 0.9363 - val_loss: 0.1846 - val_accuracy: 0.9346\n",
      "Epoch 17/50\n",
      "60000/60000 [==============================] - 541s 9ms/sample - loss: 0.1705 - accuracy: 0.9372 - val_loss: 0.1866 - val_accuracy: 0.9336\n",
      "Epoch 18/50\n",
      "60000/60000 [==============================] - 544s 9ms/sample - loss: 0.1672 - accuracy: 0.9373 - val_loss: 0.1850 - val_accuracy: 0.9341\n",
      "Epoch 19/50\n",
      "60000/60000 [==============================] - 542s 9ms/sample - loss: 0.1622 - accuracy: 0.9400 - val_loss: 0.1927 - val_accuracy: 0.9345\n",
      "Epoch 20/50\n",
      "60000/60000 [==============================] - 546s 9ms/sample - loss: 0.1588 - accuracy: 0.9404 - val_loss: 0.1917 - val_accuracy: 0.9334\n",
      "Epoch 21/50\n",
      "60000/60000 [==============================] - 542s 9ms/sample - loss: 0.1575 - accuracy: 0.9413 - val_loss: 0.1870 - val_accuracy: 0.9345\n",
      "Epoch 22/50\n",
      "60000/60000 [==============================] - 547s 9ms/sample - loss: 0.1534 - accuracy: 0.9427 - val_loss: 0.1820 - val_accuracy: 0.9364\n",
      "Epoch 23/50\n",
      "60000/60000 [==============================] - 531s 9ms/sample - loss: 0.1506 - accuracy: 0.9438 - val_loss: 0.1851 - val_accuracy: 0.9335\n",
      "Epoch 24/50\n",
      "60000/60000 [==============================] - 440s 7ms/sample - loss: 0.1480 - accuracy: 0.9451 - val_loss: 0.1884 - val_accuracy: 0.9364\n",
      "Epoch 25/50\n",
      "60000/60000 [==============================] - 440s 7ms/sample - loss: 0.1469 - accuracy: 0.9452 - val_loss: 0.1911 - val_accuracy: 0.9358\n",
      "Epoch 26/50\n",
      "60000/60000 [==============================] - 439s 7ms/sample - loss: 0.1433 - accuracy: 0.9459 - val_loss: 0.1967 - val_accuracy: 0.9301\n",
      "Epoch 27/50\n",
      "60000/60000 [==============================] - 438s 7ms/sample - loss: 0.1387 - accuracy: 0.9481 - val_loss: 0.1822 - val_accuracy: 0.9393\n",
      "Epoch 28/50\n",
      "60000/60000 [==============================] - 438s 7ms/sample - loss: 0.1385 - accuracy: 0.9478 - val_loss: 0.1886 - val_accuracy: 0.9357\n",
      "Epoch 29/50\n",
      "60000/60000 [==============================] - 442s 7ms/sample - loss: 0.1342 - accuracy: 0.9499 - val_loss: 0.2045 - val_accuracy: 0.9335\n",
      "Epoch 30/50\n",
      "60000/60000 [==============================] - 439s 7ms/sample - loss: 0.1351 - accuracy: 0.9491 - val_loss: 0.1871 - val_accuracy: 0.9400\n",
      "Epoch 31/50\n",
      "60000/60000 [==============================] - 439s 7ms/sample - loss: 0.1322 - accuracy: 0.9502 - val_loss: 0.1913 - val_accuracy: 0.9356\n",
      "Epoch 32/50\n",
      "60000/60000 [==============================] - 436s 7ms/sample - loss: 0.1313 - accuracy: 0.9510 - val_loss: 0.1860 - val_accuracy: 0.9383\n",
      "Epoch 33/50\n",
      "60000/60000 [==============================] - 435s 7ms/sample - loss: 0.1261 - accuracy: 0.9518 - val_loss: 0.1953 - val_accuracy: 0.9369\n",
      "Epoch 34/50\n",
      "60000/60000 [==============================] - 437s 7ms/sample - loss: 0.1266 - accuracy: 0.9523 - val_loss: 0.1861 - val_accuracy: 0.9385\n",
      "Epoch 35/50\n",
      "60000/60000 [==============================] - 437s 7ms/sample - loss: 0.1210 - accuracy: 0.9538 - val_loss: 0.2001 - val_accuracy: 0.9364\n",
      "Epoch 36/50\n",
      "60000/60000 [==============================] - 437s 7ms/sample - loss: 0.1231 - accuracy: 0.9535 - val_loss: 0.2019 - val_accuracy: 0.9377\n",
      "Epoch 37/50\n",
      "60000/60000 [==============================] - 437s 7ms/sample - loss: 0.1214 - accuracy: 0.9544 - val_loss: 0.1973 - val_accuracy: 0.9365\n",
      "Epoch 38/50\n",
      "60000/60000 [==============================] - 441s 7ms/sample - loss: 0.1201 - accuracy: 0.9543 - val_loss: 0.1895 - val_accuracy: 0.9380\n",
      "Epoch 39/50\n",
      "60000/60000 [==============================] - 436s 7ms/sample - loss: 0.1177 - accuracy: 0.9553 - val_loss: 0.1963 - val_accuracy: 0.9378\n",
      "Epoch 40/50\n",
      "60000/60000 [==============================] - 438s 7ms/sample - loss: 0.1170 - accuracy: 0.9561 - val_loss: 0.2029 - val_accuracy: 0.9358\n",
      "Epoch 41/50\n",
      "60000/60000 [==============================] - 434s 7ms/sample - loss: 0.1161 - accuracy: 0.9564 - val_loss: 0.1943 - val_accuracy: 0.9393\n",
      "Epoch 42/50\n",
      "60000/60000 [==============================] - 435s 7ms/sample - loss: 0.1125 - accuracy: 0.9579 - val_loss: 0.1895 - val_accuracy: 0.9389\n",
      "Epoch 43/50\n",
      "60000/60000 [==============================] - 443s 7ms/sample - loss: 0.1157 - accuracy: 0.9568 - val_loss: 0.2007 - val_accuracy: 0.9391\n",
      "Epoch 44/50\n",
      "60000/60000 [==============================] - 448s 7ms/sample - loss: 0.1102 - accuracy: 0.9585 - val_loss: 0.1942 - val_accuracy: 0.9401\n",
      "Epoch 45/50\n",
      "60000/60000 [==============================] - 449s 7ms/sample - loss: 0.1107 - accuracy: 0.9581 - val_loss: 0.1998 - val_accuracy: 0.9408\n",
      "Epoch 46/50\n",
      "60000/60000 [==============================] - 450s 7ms/sample - loss: 0.1067 - accuracy: 0.9597 - val_loss: 0.1955 - val_accuracy: 0.9383\n",
      "Epoch 47/50\n",
      "60000/60000 [==============================] - 447s 7ms/sample - loss: 0.1078 - accuracy: 0.9591 - val_loss: 0.2042 - val_accuracy: 0.9388\n",
      "Epoch 48/50\n",
      "60000/60000 [==============================] - 448s 7ms/sample - loss: 0.1085 - accuracy: 0.9595 - val_loss: 0.1892 - val_accuracy: 0.9387\n",
      "Epoch 49/50\n",
      "60000/60000 [==============================] - 448s 7ms/sample - loss: 0.1042 - accuracy: 0.9609 - val_loss: 0.2116 - val_accuracy: 0.9373\n",
      "Epoch 50/50\n",
      "60000/60000 [==============================] - 449s 7ms/sample - loss: 0.1049 - accuracy: 0.9613 - val_loss: 0.1986 - val_accuracy: 0.9366\n"
     ]
    }
   ],
   "source": [
    "model_vgg_fit=model_vgg.fit(x_train, y_train, \n",
    "                      validation_data = (x_test, y_test), \n",
    "                      epochs=50, verbose=1, batch_size=256)"
   ]
  },
  {
   "cell_type": "code",
   "execution_count": 32,
   "metadata": {},
   "outputs": [
    {
     "name": "stdout",
     "output_type": "stream",
     "text": [
      "> 93.660\n"
     ]
    }
   ],
   "source": [
    "_, acc = model_vgg.evaluate(x_test, y_test, verbose=0)\n",
    "print('> %.3f' % (acc * 100.0))"
   ]
  },
  {
   "cell_type": "markdown",
   "metadata": {},
   "source": [
    "# Text Classification"
   ]
  },
  {
   "cell_type": "markdown",
   "metadata": {},
   "source": [
    "## 3.1 RNN"
   ]
  },
  {
   "cell_type": "code",
   "execution_count": 19,
   "metadata": {},
   "outputs": [],
   "source": [
    "from tensorflow.keras.preprocessing.text import Tokenizer\n",
    "from tensorflow.keras.preprocessing.sequence import pad_sequences\n",
    "from sklearn.model_selection import train_test_split\n",
    "from tensorflow.keras.layers import Embedding, SpatialDropout1D, LSTM\n",
    "from tensorflow.keras.callbacks import EarlyStopping"
   ]
  },
  {
   "cell_type": "code",
   "execution_count": 20,
   "metadata": {},
   "outputs": [],
   "source": [
    "tweets = pd.read_csv(\"~/Downloads/tweets_with_labels.csv\", sep='\\t')"
   ]
  },
  {
   "cell_type": "code",
   "execution_count": 6,
   "metadata": {},
   "outputs": [
    {
     "data": {
      "text/html": [
       "<div>\n",
       "<style scoped>\n",
       "    .dataframe tbody tr th:only-of-type {\n",
       "        vertical-align: middle;\n",
       "    }\n",
       "\n",
       "    .dataframe tbody tr th {\n",
       "        vertical-align: top;\n",
       "    }\n",
       "\n",
       "    .dataframe thead th {\n",
       "        text-align: right;\n",
       "    }\n",
       "</style>\n",
       "<table border=\"1\" class=\"dataframe\">\n",
       "  <thead>\n",
       "    <tr style=\"text-align: right;\">\n",
       "      <th></th>\n",
       "      <th>id</th>\n",
       "      <th>tweet</th>\n",
       "      <th>k1</th>\n",
       "      <th>k2</th>\n",
       "      <th>k3</th>\n",
       "      <th>k4</th>\n",
       "      <th>k5</th>\n",
       "      <th>k6</th>\n",
       "      <th>k7</th>\n",
       "      <th>k8</th>\n",
       "      <th>k9</th>\n",
       "      <th>k10</th>\n",
       "      <th>k11</th>\n",
       "      <th>k12</th>\n",
       "      <th>k13</th>\n",
       "      <th>k14</th>\n",
       "      <th>k15</th>\n",
       "    </tr>\n",
       "  </thead>\n",
       "  <tbody>\n",
       "    <tr>\n",
       "      <th>0</th>\n",
       "      <td>1</td>\n",
       "      <td>Jazz for a Rainy Afternoon:  {link}</td>\n",
       "      <td>0.0</td>\n",
       "      <td>0.0</td>\n",
       "      <td>0.0</td>\n",
       "      <td>0.0</td>\n",
       "      <td>0.0</td>\n",
       "      <td>0.0</td>\n",
       "      <td>0.000</td>\n",
       "      <td>0.0</td>\n",
       "      <td>0.000</td>\n",
       "      <td>1.0</td>\n",
       "      <td>0.0</td>\n",
       "      <td>0.0</td>\n",
       "      <td>0.000</td>\n",
       "      <td>0.0</td>\n",
       "      <td>0.0</td>\n",
       "    </tr>\n",
       "    <tr>\n",
       "      <th>1</th>\n",
       "      <td>2</td>\n",
       "      <td>RT: @mention: I love rainy days.</td>\n",
       "      <td>0.0</td>\n",
       "      <td>0.0</td>\n",
       "      <td>0.0</td>\n",
       "      <td>0.0</td>\n",
       "      <td>0.0</td>\n",
       "      <td>0.0</td>\n",
       "      <td>0.000</td>\n",
       "      <td>0.0</td>\n",
       "      <td>0.000</td>\n",
       "      <td>1.0</td>\n",
       "      <td>0.0</td>\n",
       "      <td>0.0</td>\n",
       "      <td>0.000</td>\n",
       "      <td>0.0</td>\n",
       "      <td>0.0</td>\n",
       "    </tr>\n",
       "    <tr>\n",
       "      <th>2</th>\n",
       "      <td>3</td>\n",
       "      <td>Good Morning Chicago! Time to kick the Windy C...</td>\n",
       "      <td>0.0</td>\n",
       "      <td>0.0</td>\n",
       "      <td>0.0</td>\n",
       "      <td>0.0</td>\n",
       "      <td>0.0</td>\n",
       "      <td>0.0</td>\n",
       "      <td>1.000</td>\n",
       "      <td>0.0</td>\n",
       "      <td>0.000</td>\n",
       "      <td>0.0</td>\n",
       "      <td>0.0</td>\n",
       "      <td>0.0</td>\n",
       "      <td>0.000</td>\n",
       "      <td>0.0</td>\n",
       "      <td>0.0</td>\n",
       "    </tr>\n",
       "    <tr>\n",
       "      <th>3</th>\n",
       "      <td>6</td>\n",
       "      <td>Preach lol! :) RT @mention: #alliwantis this t...</td>\n",
       "      <td>0.0</td>\n",
       "      <td>0.0</td>\n",
       "      <td>0.0</td>\n",
       "      <td>0.0</td>\n",
       "      <td>0.0</td>\n",
       "      <td>0.0</td>\n",
       "      <td>0.604</td>\n",
       "      <td>0.0</td>\n",
       "      <td>0.196</td>\n",
       "      <td>0.0</td>\n",
       "      <td>0.0</td>\n",
       "      <td>0.0</td>\n",
       "      <td>0.201</td>\n",
       "      <td>0.0</td>\n",
       "      <td>0.0</td>\n",
       "    </tr>\n",
       "    <tr>\n",
       "      <th>4</th>\n",
       "      <td>9</td>\n",
       "      <td>@mention good morning sunshine</td>\n",
       "      <td>0.0</td>\n",
       "      <td>0.0</td>\n",
       "      <td>0.0</td>\n",
       "      <td>0.0</td>\n",
       "      <td>0.0</td>\n",
       "      <td>0.0</td>\n",
       "      <td>0.000</td>\n",
       "      <td>0.0</td>\n",
       "      <td>0.000</td>\n",
       "      <td>0.0</td>\n",
       "      <td>0.0</td>\n",
       "      <td>0.0</td>\n",
       "      <td>1.000</td>\n",
       "      <td>0.0</td>\n",
       "      <td>0.0</td>\n",
       "    </tr>\n",
       "  </tbody>\n",
       "</table>\n",
       "</div>"
      ],
      "text/plain": [
       "   id                                              tweet   k1   k2   k3   k4  \\\n",
       "0   1                Jazz for a Rainy Afternoon:  {link}  0.0  0.0  0.0  0.0   \n",
       "1   2                   RT: @mention: I love rainy days.  0.0  0.0  0.0  0.0   \n",
       "2   3  Good Morning Chicago! Time to kick the Windy C...  0.0  0.0  0.0  0.0   \n",
       "3   6  Preach lol! :) RT @mention: #alliwantis this t...  0.0  0.0  0.0  0.0   \n",
       "4   9                     @mention good morning sunshine  0.0  0.0  0.0  0.0   \n",
       "\n",
       "    k5   k6     k7   k8     k9  k10  k11  k12    k13  k14  k15  \n",
       "0  0.0  0.0  0.000  0.0  0.000  1.0  0.0  0.0  0.000  0.0  0.0  \n",
       "1  0.0  0.0  0.000  0.0  0.000  1.0  0.0  0.0  0.000  0.0  0.0  \n",
       "2  0.0  0.0  1.000  0.0  0.000  0.0  0.0  0.0  0.000  0.0  0.0  \n",
       "3  0.0  0.0  0.604  0.0  0.196  0.0  0.0  0.0  0.201  0.0  0.0  \n",
       "4  0.0  0.0  0.000  0.0  0.000  0.0  0.0  0.0  1.000  0.0  0.0  "
      ]
     },
     "execution_count": 6,
     "metadata": {},
     "output_type": "execute_result"
    }
   ],
   "source": [
    "tweets.head()"
   ]
  },
  {
   "cell_type": "code",
   "execution_count": 15,
   "metadata": {},
   "outputs": [],
   "source": [
    "# The maximum number of words to be used. (most frequent)\n",
    "MAX_NB_WORDS = 50000\n",
    "# Max number of words in each complaint.\n",
    "MAX_SEQUENCE_LENGTH = 250\n",
    "# This is fixed.\n",
    "EMBEDDING_DIM = 100"
   ]
  },
  {
   "cell_type": "code",
   "execution_count": 37,
   "metadata": {},
   "outputs": [
    {
     "name": "stdout",
     "output_type": "stream",
     "text": [
      "Found 43805 unique tokens.\n"
     ]
    }
   ],
   "source": [
    "tokenizer = Tokenizer(num_words=MAX_NB_WORDS, filters='!\"#$%&()*+,-./:;<=>?@[\\]^_`{|}~', lower=True)\n",
    "tokenizer.fit_on_texts(tweets['tweet'].values)\n",
    "word_index = tokenizer.word_index\n",
    "print('Found %s unique tokens.' % len(word_index))"
   ]
  },
  {
   "cell_type": "code",
   "execution_count": 38,
   "metadata": {},
   "outputs": [
    {
     "name": "stdout",
     "output_type": "stream",
     "text": [
      "Shape of data tensor: (77946, 250)\n"
     ]
    }
   ],
   "source": [
    "X = tokenizer.texts_to_sequences(tweets['tweet'].values)\n",
    "X = pad_sequences(X, maxlen=MAX_SEQUENCE_LENGTH)\n",
    "print('Shape of data tensor:', X.shape)"
   ]
  },
  {
   "cell_type": "code",
   "execution_count": 39,
   "metadata": {},
   "outputs": [
    {
     "name": "stdout",
     "output_type": "stream",
     "text": [
      "Shape of label tensor: (77946, 15)\n"
     ]
    }
   ],
   "source": [
    "y = pd.get_dummies(tweets[tweets.columns[-15:]]).values\n",
    "print('Shape of label tensor:', y.shape)"
   ]
  },
  {
   "cell_type": "code",
   "execution_count": 61,
   "metadata": {},
   "outputs": [],
   "source": [
    "model_lstm = Sequential()\n",
    "model_lstm.add(Embedding(MAX_NB_WORDS, EMBEDDING_DIM, input_length=X.shape[1]))\n",
    "model_lstm.add(SpatialDropout1D(0.2))\n",
    "model_lstm.add(LSTM(100, dropout=0.2, recurrent_dropout=0.2))\n",
    "model_lstm.add(Dense(15, activation='softmax'))\n",
    "model_lstm.compile(loss='categorical_crossentropy', optimizer='adam', metrics=['accuracy'])"
   ]
  },
  {
   "cell_type": "code",
   "execution_count": 62,
   "metadata": {},
   "outputs": [
    {
     "name": "stdout",
     "output_type": "stream",
     "text": [
      "(70151, 250) (70151, 15)\n",
      "(7795, 250) (7795, 15)\n"
     ]
    }
   ],
   "source": [
    "X_train, X_test, y_train, y_test = train_test_split(X, y, test_size = 0.10, random_state = 123)\n",
    "print(X_train.shape, y_train.shape)\n",
    "print(X_test.shape, y_test.shape)"
   ]
  },
  {
   "cell_type": "code",
   "execution_count": 63,
   "metadata": {},
   "outputs": [
    {
     "name": "stdout",
     "output_type": "stream",
     "text": [
      "Train on 63135 samples, validate on 7016 samples\n",
      "Epoch 1/5\n",
      "63135/63135 [==============================] - 780s 12ms/sample - loss: 1.9268 - accuracy: 0.6050 - val_loss: 1.4078 - val_accuracy: 0.7772\n",
      "Epoch 2/5\n",
      "63135/63135 [==============================] - 981s 16ms/sample - loss: 1.4145 - accuracy: 0.7862 - val_loss: 1.4045 - val_accuracy: 0.7915\n",
      "Epoch 3/5\n",
      "63135/63135 [==============================] - 755s 12ms/sample - loss: 1.4201 - accuracy: 0.7981 - val_loss: 1.4819 - val_accuracy: 0.8023\n",
      "Epoch 4/5\n",
      "63135/63135 [==============================] - 836s 13ms/sample - loss: 1.4592 - accuracy: 0.8068 - val_loss: 1.6059 - val_accuracy: 0.8059\n",
      "Epoch 5/5\n",
      "63135/63135 [==============================] - 705s 11ms/sample - loss: 1.5391 - accuracy: 0.8102 - val_loss: 1.7527 - val_accuracy: 0.7975\n"
     ]
    },
    {
     "data": {
      "text/plain": [
       "<tensorflow.python.keras.callbacks.History at 0x1a82110fd0>"
      ]
     },
     "execution_count": 63,
     "metadata": {},
     "output_type": "execute_result"
    }
   ],
   "source": [
    "epochs = 5\n",
    "batch_size = 64\n",
    "\n",
    "model_lstm.fit(X_train, y_train, epochs=epochs, batch_size=batch_size,\n",
    "          validation_split=0.1) # training:test = 9:1"
   ]
  },
  {
   "cell_type": "code",
   "execution_count": 64,
   "metadata": {},
   "outputs": [
    {
     "name": "stdout",
     "output_type": "stream",
     "text": [
      "> 79.282\n"
     ]
    }
   ],
   "source": [
    "_, acc = model_lstm.evaluate(X_test, y_test, verbose=0)\n",
    "print('> %.3f' % (acc * 100.0))"
   ]
  },
  {
   "cell_type": "markdown",
   "metadata": {},
   "source": [
    "## 3.2 1D CNN"
   ]
  },
  {
   "cell_type": "code",
   "execution_count": 21,
   "metadata": {},
   "outputs": [],
   "source": [
    "from tensorflow.keras.layers import Conv1D, Convolution1D, GlobalMaxPooling1D, MaxPooling1D, Activation\n",
    "from tensorflow.keras.preprocessing.sequence import pad_sequences\n",
    "from tensorflow.keras.preprocessing import sequence"
   ]
  },
  {
   "cell_type": "code",
   "execution_count": 22,
   "metadata": {},
   "outputs": [],
   "source": [
    "docs = []\n",
    "sentences = []\n",
    "\n",
    "for sentences in tweets.tweet:\n",
    "    sentences_cleaned = [sent.lower() for sent in sentences]\n",
    "    docs.append(sentences_cleaned)"
   ]
  },
  {
   "cell_type": "code",
   "execution_count": 25,
   "metadata": {},
   "outputs": [
    {
     "name": "stdout",
     "output_type": "stream",
     "text": [
      "total chars: 68\n"
     ]
    }
   ],
   "source": [
    "txt = ''\n",
    "for doc in docs:\n",
    "    for s in doc:\n",
    "        txt += s\n",
    "chars = set(txt)\n",
    "vocab_size = len(chars)\n",
    "print('total chars:', len(chars))\n",
    "char_indices = dict((c, i) for i, c in enumerate(chars))\n",
    "indices_char = dict((i, c) for i, c in enumerate(chars))"
   ]
  },
  {
   "cell_type": "markdown",
   "metadata": {},
   "source": [
    "There are a total of 68 characters in the tweets."
   ]
  },
  {
   "cell_type": "code",
   "execution_count": 41,
   "metadata": {},
   "outputs": [],
   "source": [
    "maxlen = 1000 \n",
    "nb_filter = 8\n",
    "dense_outputs = 1000\n",
    "filter_kernels = [64, 64, 32, 32, 8, 8]"
   ]
  },
  {
   "cell_type": "code",
   "execution_count": 42,
   "metadata": {},
   "outputs": [],
   "source": [
    "def vectorize_sentences(data, char_indices):\n",
    "    X = []\n",
    "    for sentences in data:\n",
    "        x = [char_indices[w] for w in sentences]\n",
    "        X.append(x)\n",
    "        #print(x)\n",
    "    return (pad_sequences(X, maxlen=maxlen))"
   ]
  },
  {
   "cell_type": "code",
   "execution_count": 49,
   "metadata": {},
   "outputs": [
    {
     "data": {
      "text/plain": [
       "(77946, 1000)"
      ]
     },
     "execution_count": 49,
     "metadata": {},
     "output_type": "execute_result"
    }
   ],
   "source": [
    "char_all = vectorize_sentences(docs, char_indices)\n",
    "char_all.shape"
   ]
  },
  {
   "cell_type": "code",
   "execution_count": 50,
   "metadata": {},
   "outputs": [
    {
     "data": {
      "text/plain": [
       "(77946, 15)"
      ]
     },
     "execution_count": 50,
     "metadata": {},
     "output_type": "execute_result"
    }
   ],
   "source": [
    "label_all = pd.get_dummies(tweets[tweets.columns[-15:]]).values\n",
    "label_all.shape"
   ]
  },
  {
   "cell_type": "code",
   "execution_count": 58,
   "metadata": {},
   "outputs": [],
   "source": [
    "X_train, X_test, y_train, y_test = train_test_split(char_all, label_all, test_size = 0.10, random_state = 123)"
   ]
  },
  {
   "cell_type": "code",
   "execution_count": 59,
   "metadata": {},
   "outputs": [],
   "source": [
    "max_features = 5000\n",
    "maxlen = 1000\n",
    "embedding_dims = 50\n",
    "filters = 250\n",
    "kernel_size = 3\n",
    "hidden_dims = 250"
   ]
  },
  {
   "cell_type": "code",
   "execution_count": 60,
   "metadata": {},
   "outputs": [],
   "source": [
    "model_1dcnn = Sequential()\n",
    "model_1dcnn.add(Embedding(max_features, embedding_dims, input_length=maxlen))\n",
    "model_1dcnn.add(Dropout(0.2))\n",
    "model_1dcnn.add(Conv1D(filters, kernel_size, padding='valid', activation='relu', strides=1))\n",
    "model_1dcnn.add(GlobalMaxPooling1D())\n",
    "model_1dcnn.add(Dense(hidden_dims))\n",
    "model_1dcnn.add(Dropout(0.2))\n",
    "model_1dcnn.add(Activation('relu'))\n",
    "model_1dcnn.add(Dense(15))\n",
    "model_1dcnn.add(Activation('sigmoid'))\n",
    "model_1dcnn.compile(loss='categorical_crossentropy', optimizer='rmsprop', metrics=['accuracy'])"
   ]
  },
  {
   "cell_type": "code",
   "execution_count": 61,
   "metadata": {},
   "outputs": [
    {
     "name": "stdout",
     "output_type": "stream",
     "text": [
      "Train on 63135 samples, validate on 7016 samples\n",
      "Epoch 1/5\n",
      "63135/63135 [==============================] - 459s 7ms/sample - loss: 1.5170 - accuracy: 0.7214 - val_loss: 1.2000 - val_accuracy: 0.8000\n",
      "Epoch 2/5\n",
      "63135/63135 [==============================] - 441s 7ms/sample - loss: 1.2105 - accuracy: 0.8029 - val_loss: 1.1375 - val_accuracy: 0.8082\n",
      "Epoch 3/5\n",
      "63135/63135 [==============================] - 432s 7ms/sample - loss: 1.1648 - accuracy: 0.8100 - val_loss: 1.1070 - val_accuracy: 0.8216\n",
      "Epoch 4/5\n",
      "63135/63135 [==============================] - 469s 7ms/sample - loss: 1.1513 - accuracy: 0.8139 - val_loss: 1.0985 - val_accuracy: 0.8123\n",
      "Epoch 5/5\n",
      "63135/63135 [==============================] - 586s 9ms/sample - loss: 1.1487 - accuracy: 0.8135 - val_loss: 1.0971 - val_accuracy: 0.8168\n"
     ]
    },
    {
     "data": {
      "text/plain": [
       "<tensorflow.python.keras.callbacks.History at 0x1a796e0358>"
      ]
     },
     "execution_count": 61,
     "metadata": {},
     "output_type": "execute_result"
    }
   ],
   "source": [
    "model_1dcnn.fit(X_train, y_train, batch_size=32, epochs=5, validation_split = 0.1)"
   ]
  },
  {
   "cell_type": "code",
   "execution_count": 62,
   "metadata": {},
   "outputs": [
    {
     "name": "stdout",
     "output_type": "stream",
     "text": [
      "> 81.450\n"
     ]
    }
   ],
   "source": [
    "_, acc = model_1dcnn.evaluate(X_test, y_test, verbose=0)\n",
    "print('> %.3f' % (acc * 100.0))"
   ]
  },
  {
   "cell_type": "markdown",
   "metadata": {},
   "source": [
    "## 3.3 Comparison"
   ]
  },
  {
   "cell_type": "markdown",
   "metadata": {},
   "source": [
    "The accuracy of the is 79.282 RNN model while the accuracy of the CNN model is 81.450. Hence, in terms of accuracy, the performance of CNN model is better."
   ]
  },
  {
   "cell_type": "code",
   "execution_count": null,
   "metadata": {},
   "outputs": [],
   "source": []
  }
 ],
 "metadata": {
  "kernelspec": {
   "display_name": "Python 3",
   "language": "python",
   "name": "python3"
  },
  "language_info": {
   "codemirror_mode": {
    "name": "ipython",
    "version": 3
   },
   "file_extension": ".py",
   "mimetype": "text/x-python",
   "name": "python",
   "nbconvert_exporter": "python",
   "pygments_lexer": "ipython3",
   "version": "3.6.8"
  }
 },
 "nbformat": 4,
 "nbformat_minor": 2
}
